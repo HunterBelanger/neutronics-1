{
 "cells": [
  {
   "cell_type": "markdown",
   "id": "3760f452-9a21-495b-906f-3e93d3c28e0e",
   "metadata": {},
   "source": [
    "# Multi-Group Neutron Diffusion\n",
    "\n",
    "In this notebook, we will explore the multi-group neutron diffusion equation, which we learned about in class. We will use some standard Python libraries such as Numpy and Matplotlib. We will also use the [Scarabée](https://scarabee.readthedocs.io/en/latest/) library (written by Prof. Belanger) which has many tools for solving the multi-group neutron transport and diffusion equations.\n",
    "\n",
    "First, we will import these libraries, and then get started."
   ]
  },
  {
   "cell_type": "code",
   "execution_count": null,
   "id": "6f09f22b-ac34-482c-9cf1-e422f6c1749a",
   "metadata": {},
   "outputs": [],
   "source": [
    "import numpy as np\n",
    "import matplotlib.pyplot as plt\n",
    "import scarabee as scb"
   ]
  },
  {
   "cell_type": "markdown",
   "id": "6ae51e4e-bfbd-4466-adcb-4f2c31d33681",
   "metadata": {},
   "source": [
    "## 2-Group Bare Slab\n",
    "\n",
    "We will first start by defining the cross sections for the fuel region. The following values come from a previous Scarabée calculation performed on a PWR assembly:\n",
    "\n",
    "|     | Group 1 | Group 2 |\n",
    "| ----|---------|---------|\n",
    "| $D$ | 1.4581530682272865 | 0.3837713399359353 |\n",
    "| $\\Sigma_a$ | 0.008862471276093381 | 0.08260759507461655 |\n",
    "| $\\nu\\Sigma_f$ | 0.006281312892244154 | 0.1274795066006101 |\n",
    "| $\\Sigma_{s,1\\to g}$ | 0.2571539243453326 | 0.01890832010182176 |\n",
    "| $\\Sigma_{s,2\\to g}$ | 0.00135380638294217 | 0.9032096149462747 |\n",
    "| $\\chi$ | 1 | 0|\n",
    "| $\\nu$  | 2.43 | 2.43 |\n",
    "\n",
    "*Because these 2-group cross sections come from a real lattice physics calculation for a real assembly, they may or may not align with the hypotheses used in class*. Using these values, we can create a `DiffusionCrossSection` object from Scarabée."
   ]
  },
  {
   "cell_type": "code",
   "execution_count": null,
   "id": "41a69d18-89dc-4ca9-8cba-0e5d47061c06",
   "metadata": {},
   "outputs": [],
   "source": [
    "D  = np.array([1.4581530682272865, 0.3837713399359353])\n",
    "Es = np.array([[0.2571539243453326, 0.01890832010182176],\n",
    "               [0.00135380638294217, 0.9032096149462747]])\n",
    "Ea  = np.array([0.008862471276093381, 0.08260759507461655])\n",
    "vEf = np.array([0.006281312892244154, 0.1274795066006101])\n",
    "Ef = vEf / 2.43\n",
    "chi = np.array([1., 0.])\n",
    "\n",
    "Fuel = scb.DiffusionCrossSection(D, Ea, Es, Ef, vEf, chi, name='Fuel')"
   ]
  },
  {
   "cell_type": "markdown",
   "id": "4a2017bd-27a9-47a8-a9ed-0b381defeb3f",
   "metadata": {},
   "source": [
    "In class, we found that the solution for the scaral flux in a bare critical slab (making certain assumptions) could be written as\n",
    "\n",
    "$$ \\phi_1(x) = A\\cos(\\chi x) $$\n",
    "$$ \\phi_2(x) = A \\frac{D_1\\chi^2 + \\Sigma_{r,1}}{\\nu\\Sigma_{f,2}}\\cos(\\chi x) $$\n",
    "\n",
    "where $\\chi^2 = \\alpha^2$, and $\\alpha^2$ is taken to be the positive root of the following quadratic equation:\n",
    "\n",
    "$$ L_1^2 L_2^2 (\\alpha^2)^2 + (L_1^2 + L_2^2)(\\alpha^2) - (k_\\infty - 1) = 0$$\n",
    "\n",
    "where $L_1^2 \\equiv D_1 / \\Sigma_{r,1}$, $L_2^2 \\equiv D_2 / \\Sigma_{a,2}$, and $k_\\infty = \\Sigma_{s,1\\to 2}\\nu\\Sigma_{f,2}/(\\Sigma_{r,1}\\Sigma_{a,2})$. Let's define these quantities as Python variables, and then solve for $\\alpha^2$ using the Pythagorean theorem."
   ]
  },
  {
   "cell_type": "code",
   "execution_count": null,
   "id": "e7312876-0402-427b-8d93-4f0b9364fa5d",
   "metadata": {},
   "outputs": [],
   "source": [
    "L_1_sqrd = Fuel.D(0) / Fuel.Er(0)\n",
    "L_2_sqrd = Fuel.D(1) / Fuel.Ea(1)\n",
    "k_infty  = Fuel.Es(0,1) * Fuel.vEf(1) / (Fuel.Er(0) * Fuel.Ea(1))\n",
    "print(f\"k_infty = {k_infty}\")\n",
    "print()\n",
    "\n",
    "# We check that we are able to have a valid reactor\n",
    "assert k_infty > 1, \"k_infty must be > 0, otherwise we cannot make a critical reactor\"\n",
    "\n",
    "a = L_1_sqrd * L_2_sqrd\n",
    "b = L_1_sqrd + L_2_sqrd\n",
    "c = -(k_infty - 1.)\n",
    "\n",
    "alpha_sqrd = (-b + np.sqrt(b*b - 4.*a*c)) / (2. * a)\n",
    "print(f\"alpha^2 = chi^2 = {alpha_sqrd}\")"
   ]
  },
  {
   "cell_type": "markdown",
   "id": "30191ae0-00b6-4588-9a4b-697452e9e12d",
   "metadata": {},
   "source": [
    "Using these obtained values, we can determine what the critical length of our slab reactor should be, as we will remember that for criticality, we required\n",
    "$$ \\chi^2 = \\left(\\frac{\\pi}{2a}\\right)^2 $$\n",
    "which means that the critical slab half-length is\n",
    "$$ a = \\frac{\\pi}{2\\chi} $$"
   ]
  },
  {
   "cell_type": "code",
   "execution_count": null,
   "id": "7314ec03-6909-49ae-a2b0-2166a7ac2e2d",
   "metadata": {},
   "outputs": [],
   "source": [
    "chi = np.sqrt(alpha_sqrd)\n",
    "a = np.pi / (2. * chi)\n",
    "print(f\"a = {a} is the critical slab half-length\")"
   ]
  },
  {
   "cell_type": "markdown",
   "id": "0767e4ae-9516-4a7a-a561-b95108bb1140",
   "metadata": {},
   "source": [
    "Now, lets define Numpy arrays with our analytical solutions for the flux, assuming $A=1$:"
   ]
  },
  {
   "cell_type": "code",
   "execution_count": null,
   "id": "3df4291c-aa23-404b-a3d5-c2b377ab0b10",
   "metadata": {},
   "outputs": [],
   "source": [
    "x = np.linspace(start=-a, stop=a, num=10000)\n",
    "phi_1_analytic = np.cos(chi * x)\n",
    "phi_2_analytic = ((Fuel.D(0)*chi*chi + Fuel.Er(0))/(Fuel.vEf(1))) * np.cos(chi * x)"
   ]
  },
  {
   "cell_type": "markdown",
   "id": "99caec64-9355-4f93-b347-8e8473c497ad",
   "metadata": {},
   "source": [
    "### Numeric Solution\n",
    "\n",
    "Now, we will use Scarabée to obtain a numerical solution to the 2-group bare slab problem. Don't worry if you don't understand all of the following lines of code. It is simply setting up a `solver` object which will solve the diffusion equation for us, and tell us what $k_\\text{eff}$ is based on our provided cross sections and problem `geometry`."
   ]
  },
  {
   "cell_type": "code",
   "execution_count": null,
   "id": "befaa418-da52-4e0e-ba26-39c097fdd47d",
   "metadata": {
    "scrolled": true
   },
   "outputs": [],
   "source": [
    "len_numerical = 2.*a\n",
    "\n",
    "# First, we define our 1D problem geometry using 3D, but reflective boundary conditions along y and z\n",
    "geometry = scb.DiffusionGeometry([Fuel],        # A slab with a single material region: the Fuel we previously defined\n",
    "                                 [len_numerical], # Total width of our bare fuel slab\n",
    "                                 [1000],   # Number of regions to divide the slab into\n",
    "                                 [1.],     # 1cm width along y\n",
    "                                 [1],      # 1 region along y\n",
    "                                 [1.],     # 1cm width along z\n",
    "                                 [1],      # 1 region along z\n",
    "                                 0.,       # The albedo on the -x boundary is 0 (i.e. vacuum boundary condition)\n",
    "                                 0.,       # The albedo on the +x boundary is 0 (i.e. vacuum boundary condition)\n",
    "                                 1.,       # The albedo on the -y boundary is 1 (i.e. refletive boundary condition)\n",
    "                                 1.,       # The albedo on the +y boundary is 1 (i.e. refletive boundary condition)\n",
    "                                 1.,       # The albedo on the -z boundary is 1 (i.e. refletive boundary condition)\n",
    "                                 1.)       # The albedo on the +z boundary is 1 (i.e. refletive boundary condition)\n",
    "\n",
    "# Next we define the diffusion solver\n",
    "solver = scb.NEMDiffusionDriver(geometry)\n",
    "scb.set_logging_level(scb.LogLevel.Warning) # This solver is realllly fast, and it will make Jupyter complain if we write all the output\n",
    "solver.solve()\n",
    "scb.set_logging_level(scb.LogLevel.Info) # Back to the normal print level\n",
    "print(f\"\\n keff = {solver.keff} \\n\")"
   ]
  },
  {
   "cell_type": "code",
   "execution_count": null,
   "id": "4f615f8d-567a-4eb4-a500-fa4bc8b95c9e",
   "metadata": {},
   "outputs": [],
   "source": [
    "# We can ask the solver to give us the flux at all desired points\n",
    "x_numerical = np.linspace(start=0., stop=len_numerical, num=1000)\n",
    "flux = solver.flux(x_numerical, [0.], [0.])\n",
    "x_numerical -= 0.5*len_numerical\n",
    "\n",
    "# Get flux at mid-point of reactor in group 1 so we can normalize our numerical solution\n",
    "norm = solver.flux([0.5*len_numerical], [0.], [0.])[0,0,0,0]\n",
    "\n",
    "phi_1_numerical = flux[0,:,0,0] / norm\n",
    "phi_2_numerical = flux[1,:,0,0] / norm\n",
    "\n",
    "\n",
    "plt.plot(x_numerical, phi_1_numerical, label=\"Numeric Fast Flux\", c='C0')\n",
    "plt.plot(x, phi_1_analytic,  label=\"Analytic Fast Flux\", c='C0', linestyle='--')\n",
    "plt.plot(x_numerical, phi_2_numerical, label=\"Numeric Thermal Flux\", c='C1')\n",
    "plt.plot(x, phi_2_analytic,  label=\"Analytic Thermal Flux\", c='C1', linestyle='--')\n",
    "plt.legend()\n",
    "plt.xlabel('Position [cm]')\n",
    "plt.ylabel('Flux [Arb. Units]')\n",
    "plt.tight_layout()\n",
    "plt.show()"
   ]
  },
  {
   "cell_type": "markdown",
   "id": "feff4e17-c628-46d1-8afd-ab7617126b3b",
   "metadata": {},
   "source": [
    "While our analytic solution required the reactor be exactly critical, our numeric solution found that $k_\\text{eff} \\approx 1.21831$, which is quite far away from criticality. I certainly would not want to be staning next to this nuclear reactor ! When comparing the plotted flux, we also see that while the value of the fast and thermal flux at the mid-point of the reactor are in agreement, the shapes are different !\n",
    "\n",
    "### Questions\n",
    "\n",
    "1) Above and in class, we provided a formula for $k_\\infty$ in a homogeneous system. Is that formula valid in this case ? If not, why ?\n",
    "\n",
    "2) Can you explain why our analytic solution is so different from the numerical solution ? Which one do you think is more accurate ?\n",
    "   \n",
    "3) By modifying the above code for the numeric solver, can you find the length which results in the numeric simulation being critical ?\n",
    "   You only need to modify the line `len_numerical = 2.*a`, chaning it to the new slab length you would like to try, and then re-running the code block."
   ]
  },
  {
   "cell_type": "markdown",
   "id": "b3d065d3-09b8-4d74-9451-416fd2e79609",
   "metadata": {},
   "source": [
    "## 2-Group Reflected Slab\n",
    "\n",
    "For fun, we can also simulate a 2-group slab reactor with a reflector ! Here are 2-group cross sections calculated for a PWR reflector region (including the homogenized baffle):\n",
    "\n",
    "|    | Group 1 | Group 2 |\n",
    "| ---|---------|---------|\n",
    "| $D$ | 1.2567164488918514 | 0.2830988051250021 |\n",
    "| $\\Sigma_a$ | 0.0022491197930335975 | 0.029842704408969554 |\n",
    "| $\\Sigma_{s,1\\to g}$ | 0.333059118129353 | 0.029891965362423445 |\n",
    "| $\\Sigma_{s,2\\to g}$ | 0.0005884610659191085 | 1.2974482918223433 |\n",
    "\n",
    "Feel free to play with the following block of code to modify the width of the fuel slab, the width of the reflectors, and see how that changes $k_\\text{eff}$ and the flux shape. You could even try something really funny, like making one reflector larger than the other. With numerical solvers like these, you have a virtual nuclear reactor at your finger tips !"
   ]
  },
  {
   "cell_type": "code",
   "execution_count": null,
   "id": "2d3a2d7d-3993-434b-ac46-6b258a8610e2",
   "metadata": {},
   "outputs": [],
   "source": [
    "D  = np.array([1.2567164488918514, 0.2830988051250021])\n",
    "Es = np.array([[0.333059118129353, 0.029891965362423445],\n",
    "               [0.0005884610659191085, 1.2974482918223433]])\n",
    "Ea  = np.array([0.0022491197930335975, 0.029842704408969554])\n",
    "\n",
    "Ref = scb.DiffusionCrossSection(D, Ea, Es, name='Reflector')\n",
    "\n",
    "\n",
    "fuel_len = 27.74407\n",
    "ref_len = 20.\n",
    "\n",
    "# First, we define our 1D problem geometry using 3D, but reflective boundary conditions along y and z\n",
    "geometry = scb.DiffusionGeometry([Ref, Fuel, Ref],  # Reflector region, Fuel region, then Reflector region\n",
    "                                 [ref_len, fuel_len, ref_len], # Width of each material segment\n",
    "                                 [50, 50, 50],   # Number of regions for each material segment\n",
    "                                 [1.],     # 1cm width along y\n",
    "                                 [1],      # 1 region along y\n",
    "                                 [1.],     # 1cm width along z\n",
    "                                 [1],      # 1 region along z\n",
    "                                 0.,       # The albedo on the -x boundary is 0 (i.e. vacuum boundary condition)\n",
    "                                 0.,       # The albedo on the +x boundary is 0 (i.e. vacuum boundary condition)\n",
    "                                 1.,       # The albedo on the -y boundary is 1 (i.e. refletive boundary condition)\n",
    "                                 1.,       # The albedo on the +y boundary is 1 (i.e. refletive boundary condition)\n",
    "                                 1.,       # The albedo on the -z boundary is 1 (i.e. refletive boundary condition)\n",
    "                                 1.)       # The albedo on the +z boundary is 1 (i.e. refletive boundary condition)\n",
    "\n",
    "# Next we define the diffusion solver\n",
    "solver = scb.NEMDiffusionDriver(geometry)\n",
    "scb.set_logging_level(scb.LogLevel.Warning) # This solver is realllly fast, and it will make Jupyter complain if we write all the output\n",
    "solver.solve()\n",
    "scb.set_logging_level(scb.LogLevel.Info) # Back to the normal print level\n",
    "print(f\"\\n keff = {solver.keff} \\n\")\n",
    "\n",
    "# We can ask the solver to give us the flux at all desired points\n",
    "x = np.linspace(start=0., stop=fuel_len + 2.*ref_len, num=1000)\n",
    "flux = solver.flux(x, [0.], [0.])\n",
    "x_numerical -= 0.5*fuel_len + ref_len\n",
    "\n",
    "# Get flux at mid-point of reactor in group 1 so we can normalize our numerical solution\n",
    "norm = solver.flux([0.5*fuel_len + ref_len], [0.], [0.])[0,0,0,0]\n",
    "\n",
    "phi_1_numerical = flux[0,:,0,0] / norm\n",
    "phi_2_numerical = flux[1,:,0,0] / norm\n",
    "\n",
    "plt.plot(x, phi_1_numerical,  label=\"Fast Flux\", c='C0')\n",
    "plt.plot(x, phi_2_numerical,  label=\"Thermal Flux\", c='C1')\n",
    "plt.plot([0., 0.], [0., 1.5], c='black')\n",
    "plt.plot([ref_len, ref_len], [0., 1.5], c='black', linewidth=0.5)\n",
    "plt.plot([ref_len+fuel_len, ref_len+fuel_len], [0., 1.5], c='black', linewidth=0.5)\n",
    "plt.plot([fuel_len + 2.*ref_len, fuel_len + 2.*ref_len], [0., 1.5], c='black')\n",
    "plt.legend()\n",
    "plt.xlabel('Position [cm]')\n",
    "plt.ylabel('Flux [Arb. Units]')\n",
    "plt.ylim([0, 1.2])\n",
    "plt.tight_layout()\n",
    "plt.show()"
   ]
  }
 ],
 "metadata": {
  "kernelspec": {
   "display_name": "Python 3 (ipykernel)",
   "language": "python",
   "name": "python3"
  },
  "language_info": {
   "codemirror_mode": {
    "name": "ipython",
    "version": 3
   },
   "file_extension": ".py",
   "mimetype": "text/x-python",
   "name": "python",
   "nbconvert_exporter": "python",
   "pygments_lexer": "ipython3",
   "version": "3.13.5"
  }
 },
 "nbformat": 4,
 "nbformat_minor": 5
}
